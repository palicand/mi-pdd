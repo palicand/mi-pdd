{
 "metadata": {
  "name": "",
  "signature": "sha256:32d18b88d9a8e6db33c7e1f6b0d11b1aaec038ff4707ce6a1ca32dbe5e4b141a"
 },
 "nbformat": 3,
 "nbformat_minor": 0,
 "worksheets": [
  {
   "cells": [
    {
     "cell_type": "code",
     "collapsed": false,
     "input": [
      "import base.data_handler as dh\n",
      "import pandas as pd\n",
      "import numpy as np\n",
      "import base.models as models\n",
      "import experiments\n",
      "import base.grouped_classifier as group\n",
      "import base.grouped_clusterer as clusters\n",
      "from base.grouped_classifier import GroupedClassifier\n",
      "from sklearn.cluster import KMeans, AgglomerativeClustering\n",
      "from sklearn.ensemble import RandomForestClassifier\n",
      "from sklearn.svm import LinearSVC, NuSVC, SVC\n",
      "from sklearn.neighbors import KDTree, KNeighborsClassifier, NearestCentroid, NearestNeighbors\n",
      "from sklearn.neural_network import BernoulliRBM, rbm\n",
      "from sklearn.decomposition import PCA, KernelPCA\n",
      "import matplotlib.pyplot as plt\n",
      "from sklearn.neighbors import KDTree, KNeighborsClassifier, NearestCentroid, NearestNeighbors\n",
      "from sklearn.cluster import KMeans, DBSCAN, MeanShift\n",
      "%matplotlib inline\n",
      "%config InlineBackend.figure_format = 'png' \n",
      "import warnings\n",
      "warnings.filterwarnings('ignore')"
     ],
     "language": "python",
     "metadata": {},
     "outputs": [],
     "prompt_number": 1
    },
    {
     "cell_type": "markdown",
     "metadata": {},
     "source": [
      "Loading of spectra from fits files and their preprocessing"
     ]
    },
    {
     "cell_type": "code",
     "collapsed": false,
     "input": [
      "\n",
      "unprocessed = dh.load_spectra_from_fits('./data')\n",
      "#spectra_unprocessed_df = dh.to_dataframe(dh.process_set(unprocessed, False, False, ','))"
     ],
     "language": "python",
     "metadata": {},
     "outputs": [],
     "prompt_number": 2
    },
    {
     "cell_type": "code",
     "collapsed": false,
     "input": [
      "spectra_processed = dh.process_set(unprocessed, False, True, ',')\n",
      "spectra_processed_df= dh.to_dataframe(spectra_processed)"
     ],
     "language": "python",
     "metadata": {},
     "outputs": [],
     "prompt_number": 3
    },
    {
     "cell_type": "code",
     "collapsed": false,
     "input": [
      "top_features, scores = dh.select_features(spectra_processed_df, 10)"
     ],
     "language": "python",
     "metadata": {},
     "outputs": [],
     "prompt_number": 4
    },
    {
     "cell_type": "code",
     "collapsed": false,
     "input": [
      "spectra_processed_df['class'].value_counts()"
     ],
     "language": "python",
     "metadata": {},
     "outputs": [
      {
       "metadata": {},
       "output_type": "pyout",
       "prompt_number": 5,
       "text": [
        "3    124\n",
        "2     57\n",
        "1     31\n",
        "4     12\n",
        "dtype: int64"
       ]
      }
     ],
     "prompt_number": 5
    },
    {
     "cell_type": "code",
     "collapsed": false,
     "input": [
      "res_unprocessed_without_pca = experiments.run_without_pca(spectra_unprocessed_df)\n",
      "res_unprocessed_with_pca = experiments.run_pca_tests(spectra_processed_df, n_components=50)"
     ],
     "language": "python",
     "metadata": {},
     "outputs": [
      {
       "ename": "NameError",
       "evalue": "name 'spectra_unprocessed_df' is not defined",
       "output_type": "pyerr",
       "traceback": [
        "\u001b[0;31m---------------------------------------------------------------------------\u001b[0m\n\u001b[0;31mNameError\u001b[0m                                 Traceback (most recent call last)",
        "\u001b[0;32m<ipython-input-6-b862efbc866f>\u001b[0m in \u001b[0;36m<module>\u001b[0;34m()\u001b[0m\n\u001b[0;32m----> 1\u001b[0;31m \u001b[0mres_unprocessed_without_pca\u001b[0m \u001b[0;34m=\u001b[0m \u001b[0mexperiments\u001b[0m\u001b[0;34m.\u001b[0m\u001b[0mrun_without_pca\u001b[0m\u001b[0;34m(\u001b[0m\u001b[0mspectra_unprocessed_df\u001b[0m\u001b[0;34m)\u001b[0m\u001b[0;34m\u001b[0m\u001b[0m\n\u001b[0m\u001b[1;32m      2\u001b[0m \u001b[0mres_unprocessed_with_pca\u001b[0m \u001b[0;34m=\u001b[0m \u001b[0mexperiments\u001b[0m\u001b[0;34m.\u001b[0m\u001b[0mrun_pca_tests\u001b[0m\u001b[0;34m(\u001b[0m\u001b[0mspectra_processed_df\u001b[0m\u001b[0;34m,\u001b[0m \u001b[0mn_components\u001b[0m\u001b[0;34m=\u001b[0m\u001b[0;36m50\u001b[0m\u001b[0;34m)\u001b[0m\u001b[0;34m\u001b[0m\u001b[0m\n",
        "\u001b[0;31mNameError\u001b[0m: name 'spectra_unprocessed_df' is not defined"
       ]
      }
     ],
     "prompt_number": 6
    },
    {
     "cell_type": "code",
     "collapsed": false,
     "input": [
      "res_processed_without_pca = experiments.run_without_pca(spectra_processed_df)\n",
      "res_processed_with_pca = experiments.run_pca_tests(spectra_processed_df, n_components=50)"
     ],
     "language": "python",
     "metadata": {},
     "outputs": []
    },
    {
     "cell_type": "code",
     "collapsed": false,
     "input": [
      "res_top_without_pca = experiments.run_without_pca(top_features)\n",
      "res_top_with_pca = experiments.run_pca_tests(top_features, n_components=50)"
     ],
     "language": "python",
     "metadata": {},
     "outputs": []
    },
    {
     "cell_type": "code",
     "collapsed": false,
     "input": [
      "experiments.plot_results(res_unprocessed_without_pca, save_file='unprocessed.pdf')"
     ],
     "language": "python",
     "metadata": {},
     "outputs": []
    },
    {
     "cell_type": "code",
     "collapsed": false,
     "input": [
      "res_unprocessed_without_pca"
     ],
     "language": "python",
     "metadata": {},
     "outputs": []
    },
    {
     "cell_type": "code",
     "collapsed": false,
     "input": [
      "for result in res_unprocessed_with_pca:\n",
      "    print(result)\n",
      "    experiments.plot_results(res_unprocessed_with_pca[result], save_file='unprocessed_' + result + '.pdf')"
     ],
     "language": "python",
     "metadata": {},
     "outputs": []
    },
    {
     "cell_type": "code",
     "collapsed": false,
     "input": [
      "experiments.plot_results(res_processed_without_pca, save_file='processed.pdf')"
     ],
     "language": "python",
     "metadata": {},
     "outputs": []
    },
    {
     "cell_type": "code",
     "collapsed": false,
     "input": [
      "for result in res_processed_with_pca:\n",
      "    print(result)\n",
      "    experiments.plot_results(res_processed_with_pca[result], save_file='processed_' + result + '.pdf')"
     ],
     "language": "python",
     "metadata": {},
     "outputs": []
    },
    {
     "cell_type": "code",
     "collapsed": false,
     "input": [
      "experiments.plot_results(res_top_without_pca, save_file='top.pdf')"
     ],
     "language": "python",
     "metadata": {},
     "outputs": []
    },
    {
     "cell_type": "code",
     "collapsed": false,
     "input": [
      "for result in res_top_with_pca:\n",
      "    print(result)\n",
      "    experiments.plot_results(res_top_with_pca[result], save_file='top_' + result + '.pdf')"
     ],
     "language": "python",
     "metadata": {},
     "outputs": []
    },
    {
     "cell_type": "code",
     "collapsed": false,
     "input": [
      "#combined_crossvalidation = res_unprocessed_without_pca['crossvalidation'] + res_unprocessed_with_pca['crossvalidation'] + res_processed_without_pca['crossvalidation'] + res_processed_with_pca['crossvalidation'] + res_top_without_pca['crossvalidation']\n",
      "#for result in res_top_with_pca:\n",
      "#    combined_crossvalidation += result['crossvalidation']\n",
      "#group.plot_crossvalidation(combined_crossvalidation, labels=['RF-unprocessed', 'SVC-unprocessed', 'LinearSVC-unprocessed', 'KNN-unprocessed',\n",
      "#                                                             'RF-un-decomposed', 'SVC-un-decomposed', 'LinearSVC-un-decomposed', 'KNN-un-decomposed'\n",
      "#                                                             'RF-processed', 'SVC-processed', 'LinearSVC-processed', 'KNN-processed',\n",
      "#                                                            'RF-decomposed', 'SVC-decomposed', 'LinearSVC-decomposed', 'KNN-decomposed',\n",
      "#                                                            'RF-top', 'SVC-top', 'LinearSVC-top', 'KNN-top',\n",
      "#                                                            'RF-top-decomposed', 'SVC-top-decomposed', 'LinearSVC-top-decomposed', 'KNN-top-decomposed'])"
     ],
     "language": "python",
     "metadata": {},
     "outputs": []
    },
    {
     "cell_type": "code",
     "collapsed": false,
     "input": [
      "importances = experiments.get_feature_importances_using_rdf(spectra_processed_df)\n",
      "importances_with_index = [(importance, idx) for idx, importance in enumerate(importances)]\n",
      "sorted_imp = sorted(importances_with_index, key=lambda tup: tup[0])\n",
      "indices = [tup[1] for tup in sorted_imp[0:50]]\n"
     ],
     "language": "python",
     "metadata": {},
     "outputs": []
    },
    {
     "cell_type": "code",
     "collapsed": false,
     "input": [],
     "language": "python",
     "metadata": {},
     "outputs": []
    },
    {
     "cell_type": "code",
     "collapsed": false,
     "input": [
      "train, test = dh.split_train_set(spectra_processed_df)\n",
      "test['class'].value_counts()"
     ],
     "language": "python",
     "metadata": {},
     "outputs": []
    },
    {
     "cell_type": "code",
     "collapsed": false,
     "input": [],
     "language": "python",
     "metadata": {},
     "outputs": []
    },
    {
     "cell_type": "code",
     "collapsed": false,
     "input": [],
     "language": "python",
     "metadata": {},
     "outputs": []
    }
   ],
   "metadata": {}
  }
 ]
}